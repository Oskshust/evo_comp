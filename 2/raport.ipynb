{
 "cells": [
  {
   "cell_type": "markdown",
   "metadata": {},
   "source": [
    "## Report 2: Greedy regret heuristics\n",
    "\n",
    "* Radosław Winiecki, 148244\n",
    "* Oskar Szudzik, 148245\n",
    "\n",
    "Source code: https://github.com/Oskshust/evo_comp/tree/main/2"
   ]
  },
  {
   "cell_type": "markdown",
   "metadata": {},
   "source": [
    "#### PROBLEM DESCRIPTION:\n",
    "TODO"
   ]
  },
  {
   "cell_type": "markdown",
   "metadata": {},
   "source": [
    "## 2-regret heuristic"
   ]
  },
  {
   "cell_type": "markdown",
   "metadata": {},
   "source": [
    "#### PSEUDOCODE:\n",
    "\n",
    "TODO\n",
    "            "
   ]
  },
  {
   "cell_type": "code",
   "execution_count": 3,
   "metadata": {},
   "outputs": [],
   "source": [
    "np.random.seed(123)"
   ]
  },
  {
   "cell_type": "markdown",
   "metadata": {},
   "source": [
    "## Greedy heurustic with a weighted sum criterion - 2-regret + best change of the objective function"
   ]
  },
  {
   "cell_type": "markdown",
   "metadata": {},
   "source": [
    "#### PSEUDOCODE:\n",
    "\n",
    "TODO"
   ]
  },
  {
   "cell_type": "markdown",
   "metadata": {},
   "source": [
    "### Results:\n",
    "\n",
    "| Experiment | Algorithm  | MIN   | MAX   | AVG over 200   |\n",
    "|-----------|----------|----------|----------|----------|\n",
    "| TSPA    | RANDOM | 241153 | 298242 | 264750.185 |\n",
    "| TSPA    | NEAREST_N  | 84471 | 95013 | 87679.135 |\n",
    "| TSPA    | **G_CYCLE**  | 76270 | 84172 | 78871.415 |\n",
    "| TSPA    | 2-regret  | min | max | avg |\n",
    "| TSPA    | 2-r + change  | min | max | avg |\n",
    "|-----------|----------|----------|----------|----------|\n",
    "| TSPB    | RANDOM | 240380 | 296499 | 266304.945 |\n",
    "| TSPB    | NEAREST_N  | 77448 | 82631 | 79282.58 |\n",
    "| TSPB    | **G_CYCLE**  | 71970 | 80491 | 75752.16 |\n",
    "| TSPA    | 2-regret  | min | max | avg |\n",
    "| TSPA    | 2-r + change  | min | max | avg |\n",
    "|-----------|----------|----------|----------|----------|\n",
    "| TSPC    | RANDOM | 188548 | 239747 | 214950.675 |\n",
    "| TSPC    | NEAREST_N  | 56304 | 63697 | 58872.68 |\n",
    "| TSPC    | **G_CYCLE**  | 53614 | 60247 | 56731.47 |\n",
    "| TSPA    | 2-regret  | min | max | avg |\n",
    "| TSPA    | 2-r + change  | min | max | avg |\n",
    "|-----------|----------|----------|----------|----------|\n",
    "| TSPD    | RANDOM  | 194917 | 246170 | 218555.1 |\n",
    "| TSPD    | **NEAREST_N**  | 50335 | 59846 | 54290.68 |\n",
    "| TSPD    | G_CYCLE  | 50639 | 60031 | 54900.765 |\n",
    "| TSPA    | 2-regret  | min | max | avg |\n",
    "| TSPA    | 2-r + change  | min | max | avg |\n",
    "\n",
    "### CONCLUSIONS:\n",
    "\n",
    "TODO"
   ]
  }
 ],
 "metadata": {
  "interpreter": {
   "hash": "48dc0bcb511498b70c903f3424355862036d9e1a88e48990fa13c1639117d2bd"
  },
  "kernelspec": {
   "display_name": "Python 3.9.13 ('base')",
   "language": "python",
   "name": "python3"
  },
  "language_info": {
   "codemirror_mode": {
    "name": "ipython",
    "version": 3
   },
   "file_extension": ".py",
   "mimetype": "text/x-python",
   "name": "python",
   "nbconvert_exporter": "python",
   "pygments_lexer": "ipython3",
   "version": "3.9.13"
  },
  "orig_nbformat": 4
 },
 "nbformat": 4,
 "nbformat_minor": 2
}
