{
 "cells": [
  {
   "cell_type": "markdown",
   "metadata": {},
   "source": [
    "# Report 9: Hybrid evolutionary algorithm\n",
    "\n",
    "* Radosław Winiecki, 148244\n",
    "* Oskar Szudzik, 148245\n",
    "\n",
    "Source code: https://github.com/Oskshust/evo_comp/tree/main/9"
   ]
  },
  {
   "cell_type": "markdown",
   "metadata": {},
   "source": [
    "## Problem description:\n",
    "\n",
    "In our case, a path is a Hamiltonian cycle formed by connecting 50% of the vertices that appear on a plane. The best path is the one for which the cost of taking it is the lowest.   \n",
    "\n",
    "The goal is to implement a hybrid evolutionary algorithm and compare it with the MSLS, ILS, and LNS\n",
    "methods implemented in the previous assignments."
   ]
  },
  {
   "cell_type": "markdown",
   "metadata": {},
   "source": [
    "## HEA pseudocode\n",
    "\n",
    "```\n",
    "TODO\n",
    "```"
   ]
  },
  {
   "cell_type": "markdown",
   "metadata": {},
   "source": [
    "Recombination operator 1\n",
    "\n",
    "```\n",
    "TODO\n",
    "```\n",
    "\n",
    "Recombination operator 2\n",
    "\n",
    "```\n",
    "TODO\n",
    "```"
   ]
  },
  {
   "cell_type": "code",
   "execution_count": 1,
   "metadata": {},
   "outputs": [],
   "source": [
    "from scripts import *\n",
    "\n",
    "np.random.seed(123)\n",
    "\n",
    "a = \"../data/TSPA.csv\"\n",
    "b = \"../data/TSPB.csv\"\n",
    "c = \"../data/TSPC.csv\"\n",
    "d = \"../data/TSPD.csv\""
   ]
  },
  {
   "cell_type": "code",
   "execution_count": 22,
   "metadata": {},
   "outputs": [
    {
     "ename": "NameError",
     "evalue": "name 'random_repair' is not defined",
     "output_type": "error",
     "traceback": [
      "\u001b[1;31m---------------------------------------------------------------------------\u001b[0m",
      "\u001b[1;31mNameError\u001b[0m                                 Traceback (most recent call last)",
      "Cell \u001b[1;32mIn[22], line 26\u001b[0m\n\u001b[0;32m     24\u001b[0m sol_a \u001b[38;5;241m=\u001b[39m [\u001b[38;5;241m1\u001b[39m, \u001b[38;5;241m2\u001b[39m, \u001b[38;5;241m3\u001b[39m, \u001b[38;5;241m4\u001b[39m, \u001b[38;5;241m5\u001b[39m, \u001b[38;5;241m6\u001b[39m, \u001b[38;5;241m7\u001b[39m, \u001b[38;5;241m8\u001b[39m]\n\u001b[0;32m     25\u001b[0m sol_b \u001b[38;5;241m=\u001b[39m [\u001b[38;5;241m0\u001b[39m, \u001b[38;5;241m1\u001b[39m, \u001b[38;5;241m2\u001b[39m, \u001b[38;5;241m7\u001b[39m, \u001b[38;5;241m8\u001b[39m, \u001b[38;5;241m5\u001b[39m, \u001b[38;5;241m3\u001b[39m, \u001b[38;5;241m4\u001b[39m]\n\u001b[1;32m---> 26\u001b[0m \u001b[43moperator_common_edges\u001b[49m\u001b[43m(\u001b[49m\u001b[43msol_a\u001b[49m\u001b[43m,\u001b[49m\u001b[43m \u001b[49m\u001b[43msol_b\u001b[49m\u001b[43m)\u001b[49m\n",
      "Cell \u001b[1;32mIn[22], line 19\u001b[0m, in \u001b[0;36moperator_common_edges\u001b[1;34m(parent_1, parent_2)\u001b[0m\n\u001b[0;32m     16\u001b[0m         index \u001b[38;5;241m=\u001b[39m parent_1\u001b[38;5;241m.\u001b[39mindex(node)\n\u001b[0;32m     17\u001b[0m         child[index] \u001b[38;5;241m=\u001b[39m node\n\u001b[1;32m---> 19\u001b[0m child \u001b[38;5;241m=\u001b[39m \u001b[43mrandom_repair\u001b[49m(child)\n\u001b[0;32m     21\u001b[0m \u001b[38;5;28;01mreturn\u001b[39;00m child\n",
      "\u001b[1;31mNameError\u001b[0m: name 'random_repair' is not defined"
     ]
    }
   ],
   "source": [
    "def operator_common_edges(parent_1, parent_2):\n",
    "    # We locate in the offspring all common nodes and edges and fill the rest of the solution at random\n",
    "    \n",
    "    child = [-1 for i in range(100)]\n",
    "    \n",
    "    for i in range(len(parent_2) - 1):\n",
    "        if parent_2[i] in parent_1 and parent_2[i+1] in parent_1:\n",
    "            index_1 = parent_1.index(parent_2[i])\n",
    "            index_2 = parent_1.index(parent_2[i+1])\n",
    "            if abs(index_1 - index_2) == 1:\n",
    "                child[index_1] = parent_1[index_1]\n",
    "                child[index_2] = parent_2[index_2]\n",
    "\n",
    "    for node in parent_2:\n",
    "        if node in parent_1:\n",
    "            index = parent_1.index(node)\n",
    "            child[index] = node\n",
    "\n",
    "    child = random_repair(child)\n",
    "\n",
    "    return child\n",
    "\n",
    "\n",
    "sol_a = [1, 2, 3, 4, 5, 6, 7, 8]\n",
    "sol_b = [0, 1, 2, 7, 8, 5, 3, 4]\n",
    "operator_common_edges(sol_a, sol_b)"
   ]
  },
  {
   "cell_type": "code",
   "execution_count": 14,
   "metadata": {},
   "outputs": [
    {
     "data": {
      "text/plain": [
       "[(2, 3), (4, 5), (7, 2)]"
      ]
     },
     "execution_count": 14,
     "metadata": {},
     "output_type": "execute_result"
    }
   ],
   "source": [
    "population = [(7,2),(2,3),(4,5)]\n",
    "parent_1, parent_2 = np.random.choice(len(population), 2, replace=False)\n",
    "sorted(population)"
   ]
  },
  {
   "cell_type": "code",
   "execution_count": 1,
   "metadata": {},
   "outputs": [],
   "source": [
    "# run_hea(a)"
   ]
  },
  {
   "cell_type": "markdown",
   "metadata": {},
   "source": [
    "### Objective function values:\n",
    "\n",
    "| Algorithm | Instance A  | Instance B   | Instance C   | Instance D   |\n",
    "|-----------|----------|----------|----------|----------|\n",
    "| MLSL (baseline) | 75093.15(74399 - 75615) | 68222.2(67457 - 68718) |  49098.0(48636 - 49552) | 45526.9(45068 - 46057) |\n",
    "| ILS | 73835.35(73526 - 74142) | 67134.0(66761 - 67455) | 48226.4(47776 - 49000) | 44217.2(43837 - 44909) |\n",
    "| LNS | 78267.65(76761 - 79963) | 71671.3(69239 - 75228) | 51772.05(49396 - 53718) | 48516.45(46058 - 50472) |\n",
    "| LNS_without_LS | 78290.5(76676 - 80016) | 71229.05(69547 - 74454) | 51617.35(50364 - 53947) | 48117.5(45769 - 51529) |\n",
    "| HEA | avg(min - max) | avg(min - max) | avg(min - max) | avg(min - max) |"
   ]
  },
  {
   "cell_type": "markdown",
   "metadata": {},
   "source": [
    "### Average time per instance values (in seconds):\n",
    "\n",
    "| Methods | Instance A | Instance B | Instance C | Instance D |\n",
    "|-----------|----------|----------|----------|----------|\n",
    "| baseline | 7.146 | 7.249 | 7.368 | 7.092 |\n",
    "| ILS | 1.680 | 1.741 | 1.746 | 1.761 |\n",
    "| LNS | 1.790 | 1.535 | 1.521 | 1.419 |\n",
    "| LNS_without_LS | 0.330 | 0.342 | 0.330 | 0.342 |\n",
    "| HEA | t | t | t | t |"
   ]
  },
  {
   "cell_type": "markdown",
   "metadata": {},
   "source": [
    "### Average number of iterations per run for ILS:\n",
    "\n",
    "| Methods | Instance A | Instance B | Instance C | Instance D |\n",
    "|-----------|----------|----------|----------|----------|\n",
    "| ILS | 860.0 | 830.0 | 826.2 | 820.8 |\n",
    "| LNS | 806.5 | 939.4 | 948.45 | 1015.8 |\n",
    "| LNS_without_LS | 4359.65 | 4204.75 | 4358.9 | 4200.9 |\n",
    "| HEA | i | i | i | i |"
   ]
  },
  {
   "cell_type": "markdown",
   "metadata": {},
   "source": [
    "### Conclusions:\n",
    "\n",
    "TODO"
   ]
  }
 ],
 "metadata": {
  "kernelspec": {
   "display_name": "venv",
   "language": "python",
   "name": "python3"
  },
  "language_info": {
   "codemirror_mode": {
    "name": "ipython",
    "version": 3
   },
   "file_extension": ".py",
   "mimetype": "text/x-python",
   "name": "python",
   "nbconvert_exporter": "python",
   "pygments_lexer": "ipython3",
   "version": "3.10.8"
  }
 },
 "nbformat": 4,
 "nbformat_minor": 2
}
