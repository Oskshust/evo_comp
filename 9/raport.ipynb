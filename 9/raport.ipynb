{
 "cells": [
  {
   "cell_type": "markdown",
   "metadata": {},
   "source": [
    "# Report 9: Hybrid evolutionary algorithm\n",
    "\n",
    "* Radosław Winiecki, 148244\n",
    "* Oskar Szudzik, 148245\n",
    "\n",
    "Source code: https://github.com/Oskshust/evo_comp/tree/main/9"
   ]
  },
  {
   "cell_type": "markdown",
   "metadata": {},
   "source": [
    "## Problem description:\n",
    "\n",
    "In our case, a path is a Hamiltonian cycle formed by connecting 50% of the vertices that appear on a plane. The best path is the one for which the cost of taking it is the lowest.   \n",
    "\n",
    "The goal is to implement a hybrid evolutionary algorithm and compare it with the MSLS, ILS, and LNS\n",
    "methods implemented in the previous assignments."
   ]
  },
  {
   "cell_type": "markdown",
   "metadata": {},
   "source": [
    "## HEA pseudocode\n",
    "\n",
    "```\n",
    "TODO\n",
    "```"
   ]
  },
  {
   "cell_type": "markdown",
   "metadata": {},
   "source": [
    "Recombination operator 1\n",
    "\n",
    "```\n",
    "TODO\n",
    "```\n",
    "\n",
    "Recombination operator 2\n",
    "\n",
    "```\n",
    "TODO\n",
    "```"
   ]
  },
  {
   "cell_type": "code",
   "execution_count": 2,
   "metadata": {},
   "outputs": [],
   "source": [
    "from scripts import *\n",
    "\n",
    "np.random.seed(123)\n",
    "\n",
    "a = \"../data/TSPA.csv\"\n",
    "b = \"../data/TSPB.csv\"\n",
    "c = \"../data/TSPC.csv\"\n",
    "d = \"../data/TSPD.csv\""
   ]
  },
  {
   "cell_type": "code",
   "execution_count": 14,
   "metadata": {},
   "outputs": [
    {
     "data": {
      "text/plain": [
       "[(2, 3), (4, 5), (7, 2)]"
      ]
     },
     "execution_count": 14,
     "metadata": {},
     "output_type": "execute_result"
    }
   ],
   "source": [
    "population = [(7,2),(2,3),(4,5)]\n",
    "parent_1, parent_2 = np.random.choice(len(population), 2, replace=False)\n",
    "sorted(population)"
   ]
  },
  {
   "cell_type": "code",
   "execution_count": 1,
   "metadata": {},
   "outputs": [],
   "source": [
    "# run_hea(a)"
   ]
  },
  {
   "cell_type": "markdown",
   "metadata": {},
   "source": [
    "### Objective function values:\n",
    "\n",
    "| Algorithm | Instance A  | Instance B   | Instance C   | Instance D   |\n",
    "|-----------|----------|----------|----------|----------|\n",
    "| MLSL (baseline) | 75093.15(74399 - 75615) | 68222.2(67457 - 68718) |  49098.0(48636 - 49552) | 45526.9(45068 - 46057) |\n",
    "| ILS | 73835.35(73526 - 74142) | 67134.0(66761 - 67455) | 48226.4(47776 - 49000) | 44217.2(43837 - 44909) |\n",
    "| LNS | 78267.65(76761 - 79963) | 71671.3(69239 - 75228) | 51772.05(49396 - 53718) | 48516.45(46058 - 50472) |\n",
    "| LNS_without_LS | 78290.5(76676 - 80016) | 71229.05(69547 - 74454) | 51617.35(50364 - 53947) | 48117.5(45769 - 51529) |\n",
    "| HEA | avg(min - max) | avg(min - max) | avg(min - max) | avg(min - max) |"
   ]
  },
  {
   "cell_type": "markdown",
   "metadata": {},
   "source": [
    "### Average time per instance values (in seconds):\n",
    "\n",
    "| Methods | Instance A | Instance B | Instance C | Instance D |\n",
    "|-----------|----------|----------|----------|----------|\n",
    "| baseline | 7.146 | 7.249 | 7.368 | 7.092 |\n",
    "| ILS | 1.680 | 1.741 | 1.746 | 1.761 |\n",
    "| LNS | 1.790 | 1.535 | 1.521 | 1.419 |\n",
    "| LNS_without_LS | 0.330 | 0.342 | 0.330 | 0.342 |\n",
    "| HEA | t | t | t | t |"
   ]
  },
  {
   "cell_type": "markdown",
   "metadata": {},
   "source": [
    "### Average number of iterations per run for ILS:\n",
    "\n",
    "| Methods | Instance A | Instance B | Instance C | Instance D |\n",
    "|-----------|----------|----------|----------|----------|\n",
    "| ILS | 860.0 | 830.0 | 826.2 | 820.8 |\n",
    "| LNS | 806.5 | 939.4 | 948.45 | 1015.8 |\n",
    "| LNS_without_LS | 4359.65 | 4204.75 | 4358.9 | 4200.9 |\n",
    "| HEA | i | i | i | i |"
   ]
  },
  {
   "cell_type": "markdown",
   "metadata": {},
   "source": [
    "### Conclusions:\n",
    "\n",
    "TODO"
   ]
  }
 ],
 "metadata": {
  "kernelspec": {
   "display_name": "venv",
   "language": "python",
   "name": "python3"
  },
  "language_info": {
   "codemirror_mode": {
    "name": "ipython",
    "version": 3
   },
   "file_extension": ".py",
   "mimetype": "text/x-python",
   "name": "python",
   "nbconvert_exporter": "python",
   "pygments_lexer": "ipython3",
   "version": "3.10.8"
  }
 },
 "nbformat": 4,
 "nbformat_minor": 2
}
