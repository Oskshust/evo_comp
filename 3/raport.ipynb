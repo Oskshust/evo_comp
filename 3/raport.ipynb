{
 "cells": [
  {
   "cell_type": "markdown",
   "metadata": {},
   "source": [
    "## Report 3: Local search\n",
    "\n",
    "* Radosław Winiecki, 148244\n",
    "* Oskar Szudzik, 148245\n",
    "\n",
    "Source code: https://github.com/Oskshust/evo_comp/tree/main/3"
   ]
  },
  {
   "cell_type": "markdown",
   "metadata": {},
   "source": [
    "#### PROBLEM DESCRIPTION:\n",
    "\n",
    "In our case, a path is a Hamiltonian cycle formed by connecting 50% of the vertices that appear on a plane. The best path is the one for which the cost of taking it is the lowest.   \n",
    "\n",
    "The aim of the problem is to compare the paths created by greedy heuristics from the previous assignment with local search solutions. We run each greedy method 200 times - each time we chose the different vertex as the starting node. For the random method, the starting vertex is chosen randomly in every iteration."
   ]
  },
  {
   "cell_type": "code",
   "execution_count": null,
   "metadata": {},
   "outputs": [],
   "source": [
    "from scripts import *\n",
    "\n",
    "np.random.seed(123)\n",
    "\n",
    "filenames = {\n",
    "    letter: f\"../data/TSP{letter}.csv\" for letter in ('A', 'B', 'C', 'D')\n",
    "}"
   ]
  },
  {
   "cell_type": "markdown",
   "metadata": {},
   "source": [
    "## Steepest search, two-nodes exchange, random start"
   ]
  },
  {
   "cell_type": "markdown",
   "metadata": {},
   "source": [
    "#### PSEUDOCODE:\n",
    "\n",
    "```\n",
    "    TODO\n",
    "```"
   ]
  },
  {
   "cell_type": "code",
   "execution_count": null,
   "metadata": {},
   "outputs": [],
   "source": [
    "# step_search_2n_r(filenames['A'])"
   ]
  },
  {
   "cell_type": "code",
   "execution_count": null,
   "metadata": {},
   "outputs": [],
   "source": [
    "# step_search_2n_r(filenames['B'])"
   ]
  },
  {
   "cell_type": "code",
   "execution_count": null,
   "metadata": {},
   "outputs": [],
   "source": [
    "# step_search_2n_r(filenames['C'])"
   ]
  },
  {
   "cell_type": "code",
   "execution_count": null,
   "metadata": {},
   "outputs": [],
   "source": [
    "# step_search_2n_r(filenames['D'])"
   ]
  },
  {
   "cell_type": "markdown",
   "metadata": {},
   "source": [
    "## Steepest search, two-nodes exchange, the best greedy construction heuristic"
   ]
  },
  {
   "cell_type": "markdown",
   "metadata": {},
   "source": [
    "#### PSEUDOCODE:\n",
    "\n",
    "```\n",
    " TODO\n",
    "```"
   ]
  },
  {
   "cell_type": "code",
   "execution_count": null,
   "metadata": {},
   "outputs": [],
   "source": [
    "# step_search_2n_bgch(filenames['A'])"
   ]
  },
  {
   "cell_type": "code",
   "execution_count": null,
   "metadata": {},
   "outputs": [],
   "source": [
    "# step_search_2n_bgch(filenames['B'])"
   ]
  },
  {
   "cell_type": "code",
   "execution_count": null,
   "metadata": {},
   "outputs": [],
   "source": [
    "# step_search_2n_bgch(filenames['C'])"
   ]
  },
  {
   "cell_type": "code",
   "execution_count": null,
   "metadata": {},
   "outputs": [],
   "source": [
    "# step_search_2n_bgch(filenames['D'])"
   ]
  },
  {
   "cell_type": "markdown",
   "metadata": {},
   "source": [
    "## Steepest search, two-edges exchange, random start"
   ]
  },
  {
   "cell_type": "markdown",
   "metadata": {},
   "source": [
    "#### PSEUDOCODE:\n",
    "\n",
    "```\n",
    " TODO\n",
    "```"
   ]
  },
  {
   "cell_type": "code",
   "execution_count": null,
   "metadata": {},
   "outputs": [],
   "source": [
    "# step_search_2e_r(filenames['A'])"
   ]
  },
  {
   "cell_type": "code",
   "execution_count": null,
   "metadata": {},
   "outputs": [],
   "source": [
    "# step_search_2e_r(filenames['B'])"
   ]
  },
  {
   "cell_type": "code",
   "execution_count": null,
   "metadata": {},
   "outputs": [],
   "source": [
    "# step_search_2e_r(filenames['C'])"
   ]
  },
  {
   "cell_type": "code",
   "execution_count": null,
   "metadata": {},
   "outputs": [],
   "source": [
    "# step_search_2e_r(filenames['D'])"
   ]
  },
  {
   "cell_type": "markdown",
   "metadata": {},
   "source": [
    "## Steepest search, two-edges exchange, the best greedy construction heuristic"
   ]
  },
  {
   "cell_type": "markdown",
   "metadata": {},
   "source": [
    "#### PSEUDOCODE:\n",
    "\n",
    "```\n",
    " TODO\n",
    "```"
   ]
  },
  {
   "cell_type": "code",
   "execution_count": null,
   "metadata": {},
   "outputs": [],
   "source": [
    "# step_search_2e_bgch(filenames['A'])"
   ]
  },
  {
   "cell_type": "code",
   "execution_count": null,
   "metadata": {},
   "outputs": [],
   "source": [
    "# step_search_2e_bgch(filenames['B'])"
   ]
  },
  {
   "cell_type": "code",
   "execution_count": null,
   "metadata": {},
   "outputs": [],
   "source": [
    "# step_search_2e_bgch(filenames['C'])"
   ]
  },
  {
   "cell_type": "code",
   "execution_count": null,
   "metadata": {},
   "outputs": [],
   "source": [
    "# step_search_2e_bgch(filenames['D'])"
   ]
  },
  {
   "cell_type": "markdown",
   "metadata": {},
   "source": [
    "## Results"
   ]
  },
  {
   "cell_type": "markdown",
   "metadata": {},
   "source": [
    "### Objective function values:\n",
    "\n",
    "| Experiment | Algorithm  | MIN   | MAX   | AVG over 200   |\n",
    "|-----------|----------|----------|----------|----------|\n",
    "| A | RANDOM | 241153 | 298242 | 264750.185 |\n",
    "| A | NEAREST_N  | 84471 | 95013 | 87679.135 |\n",
    "| A | G_CYCLE  | 76270 | 84172 | 78871.415 |\n",
    "| A | 2-regret  | 115650 | 116203 | 115926.5 |\n",
    "| A | **weighted 2-regret**  | 74563 | 79037 | 76445.205 |\n",
    "|-----------|----------|----------|----------|----------|\n",
    "| B | RANDOM | 240380 | 296499 | 266304.945 |\n",
    "| B | NEAREST_N  | 77448 | 82631 | 79282.58 |\n",
    "| B | G_CYCLE  | 71970 | 80491 | 75752.16 |\n",
    "| B | 2-regret  | 101374 | 126143 | 115489.285 |\n",
    "| B | **weighted 2-regret**  | 69453 | 77709 | 71828.865 |\n",
    "|-----------|----------|----------|----------|----------|\n",
    "| C | RANDOM | 188548 | 239747 | 214950.675 |\n",
    "| C | NEAREST_N  | 56304 | 63697 | 58872.68 |\n",
    "| C | G_CYCLE  | 53614 | 60247 | 56731.47 |\n",
    "| C | 2-regret  | 64432 | 73978 | 69722.2 |\n",
    "| C | **weighted 2-regret**  | 53029 | 60243 | 55889.185 |\n",
    "|-----------|----------|----------|----------|----------|\n",
    "| D | RANDOM  | 194917 | 246170 | 218555.1 |\n",
    "| D | NEAREST_N  | 50335 | 59846 | 54290.68 |\n",
    "| D | G_CYCLE  | 50639 | 60031 | 54900.765 |\n",
    "| D | 2-regret  | 60313 | 74039 | 68686.81 |\n",
    "| D | **weighted 2-regret**  | 49165 | 59081 | 53715.845 |"
   ]
  },
  {
   "cell_type": "markdown",
   "metadata": {},
   "source": [
    "### Running times:\n",
    "\n",
    "| Methods | Instance A | Instance B | Instance C | Instance D |\n",
    "|-----------|----------|----------|----------|----------|\n",
    "| step_search_2n_r | a | b | c | d |\n",
    "| step_search_2n_bgch | a | b | c | d |\n",
    "| step_search_2e_r | a | b | c | d |\n",
    "| step_search_2e_bgch | a | b | c | d |\n",
    "|-----------|----------|----------|----------|----------|\n",
    "| greedy_search_2n_r | a | b | c | d |\n",
    "| greedy_search_2n_bgch | a | b | c | d |\n",
    "| greedy_search_2e_r | a | b | c | d |\n",
    "| greedy_search_2e_bgch | a | b | c | d |\n"
   ]
  },
  {
   "cell_type": "markdown",
   "metadata": {},
   "source": [
    "### CONCLUSIONS:\n",
    "\n",
    "TODO"
   ]
  }
 ],
 "metadata": {
  "interpreter": {
   "hash": "48dc0bcb511498b70c903f3424355862036d9e1a88e48990fa13c1639117d2bd"
  },
  "kernelspec": {
   "display_name": "Python 3.9.13 ('base')",
   "language": "python",
   "name": "python3"
  },
  "language_info": {
   "codemirror_mode": {
    "name": "ipython",
    "version": 3
   },
   "file_extension": ".py",
   "mimetype": "text/x-python",
   "name": "python",
   "nbconvert_exporter": "python",
   "pygments_lexer": "ipython3",
   "version": "3.9.13"
  },
  "orig_nbformat": 4
 },
 "nbformat": 4,
 "nbformat_minor": 2
}
