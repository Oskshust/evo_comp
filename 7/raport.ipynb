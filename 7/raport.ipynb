{
 "cells": [
  {
   "cell_type": "markdown",
   "metadata": {},
   "source": [
    "# Report 7: Large-scale neighbourhood search\n",
    "\n",
    "* Radosław Winiecki, 148244\n",
    "* Oskar Szudzik, 148245\n",
    "\n",
    "Source code: https://github.com/Oskshust/evo_comp/tree/main/7"
   ]
  },
  {
   "cell_type": "markdown",
   "metadata": {},
   "source": [
    "## Problem description:\n",
    "\n",
    "In our case, a path is a Hamiltonian cycle formed by connecting 50% of the vertices that appear on a plane. The best path is the one for which the cost of taking it is the lowest.   \n",
    "\n",
    "The aim of the problem is to # TODO"
   ]
  },
  {
   "cell_type": "markdown",
   "metadata": {},
   "source": [
    "## LNS pseudocode\n",
    "\n",
    "```\n",
    "function lns(matrix, finish_time, with_ls):\n",
    "    x, cost = steepest(matrix, random_solution(matrix))\n",
    "        \n",
    "    best_solution, best_cost = x, cost\n",
    "    \n",
    "    while time.time() < finish_time:\n",
    "        x = destroy(x)\n",
    "        x = repair(x)\n",
    "        \n",
    "        if with_ls:\n",
    "            y, y_cost = steepest(matrix, x)\n",
    "            if y_cost < best_cost:\n",
    "                best_solution, best_cost = y, y_cost\n",
    "                x = y\n",
    "        else:\n",
    "            x_cost = calculate_cost(x, matrix)\n",
    "            if x_cost < best_cost:\n",
    "                best_solution, best_cost = x, x_cost\n",
    "\n",
    "    return best_solution, best_cost\n",
    "```"
   ]
  },
  {
   "cell_type": "markdown",
   "metadata": {},
   "source": [
    "Destroy operator\n",
    "\n",
    "TODO"
   ]
  },
  {
   "cell_type": "markdown",
   "metadata": {},
   "source": [
    "Repair operator\n",
    "\n",
    "TODO"
   ]
  },
  {
   "cell_type": "code",
   "execution_count": 2,
   "metadata": {},
   "outputs": [],
   "source": [
    "from scripts import *\n",
    "\n",
    "np.random.seed(123)\n",
    "\n",
    "a = \"../data/TSPA.csv\"\n",
    "b = \"../data/TSPB.csv\"\n",
    "c = \"../data/TSPC.csv\"\n",
    "d = \"../data/TSPD.csv\""
   ]
  },
  {
   "cell_type": "code",
   "execution_count": 5,
   "metadata": {},
   "outputs": [],
   "source": [
    "# run_lns(a, 1)"
   ]
  },
  {
   "cell_type": "markdown",
   "metadata": {},
   "source": [
    "### Second LNS - without LS"
   ]
  },
  {
   "cell_type": "code",
   "execution_count": 6,
   "metadata": {},
   "outputs": [],
   "source": [
    "# run_lns(a, 1, False)"
   ]
  },
  {
   "cell_type": "markdown",
   "metadata": {},
   "source": [
    "### Objective function values:\n",
    "\n",
    "| Algorithm | Instance A  | Instance B   | Instance C   | Instance D   |\n",
    "|-----------|----------|----------|----------|----------|\n",
    "| MLSL (baseline) | 75093.15(74399 - 75615) | 68222.2(67457 - 68718) |  49098.0(48636 - 49552) | 45526.9(45068 - 46057) |\n",
    "| ILS | 73835.35(73526 - 74142) | 67134.0(66761 - 67455) | 48226.4(47776 - 49000) | 44217.2(43837 - 44909) |\n",
    "| LNS | avg(min - max) | avg(min - max) | avg(min - max) | avg(min - max) |\n",
    "| LNS_without_LS | avg(min - max) | avg(min - max) | avg(min - max) | avg(min - max) |\n"
   ]
  },
  {
   "cell_type": "markdown",
   "metadata": {},
   "source": [
    "### Average time per instance values (in seconds):\n",
    "\n",
    "| Methods | Instance A | Instance B | Instance C | Instance D |\n",
    "|-----------|----------|----------|----------|----------|\n",
    "| baseline | 7.146 | 7.249 | 7.368 | 7.092 |\n",
    "| ILS | 1.680 | 1.741 | 1.746 | 1.761 |\n",
    "| LNS | avg(min - max) | avg(min - max) | avg(min - max) | avg(min - max) |\n",
    "| LNS_without_LS | avg(min - max) | avg(min - max) | avg(min - max) | avg(min - max) |"
   ]
  },
  {
   "cell_type": "markdown",
   "metadata": {},
   "source": [
    "### Average number of iterations per run for ILS:\n",
    "\n",
    "| Methods | Instance A | Instance B | Instance C | Instance D |\n",
    "|-----------|----------|----------|----------|----------|\n",
    "| ILS | 860.0 | 830.0 | 826.2 | 820.8 |\n",
    "| LNS | avg | avg | avg | avg |\n",
    "| LNS_without_LS | avg | avg | avg | avg |"
   ]
  },
  {
   "cell_type": "markdown",
   "metadata": {},
   "source": [
    "### Conclusions:\n",
    "\n",
    "TODO"
   ]
  }
 ],
 "metadata": {
  "kernelspec": {
   "display_name": "venv",
   "language": "python",
   "name": "python3"
  },
  "language_info": {
   "codemirror_mode": {
    "name": "ipython",
    "version": 3
   },
   "file_extension": ".py",
   "mimetype": "text/x-python",
   "name": "python",
   "nbconvert_exporter": "python",
   "pygments_lexer": "ipython3",
   "version": "3.10.8"
  }
 },
 "nbformat": 4,
 "nbformat_minor": 2
}
