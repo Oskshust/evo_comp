{
 "cells": [
  {
   "cell_type": "markdown",
   "metadata": {},
   "source": [
    "## Report 5: Previous iteration deltas\n",
    "\n",
    "* Radosław Winiecki, 148244\n",
    "* Oskar Szudzik, 148245\n",
    "\n",
    "Source code: https://github.com/Oskshust/evo_comp/tree/main/5"
   ]
  },
  {
   "cell_type": "markdown",
   "metadata": {},
   "source": [
    "#### PROBLEM DESCRIPTION:\n",
    "\n",
    "In our case, a path is a Hamiltonian cycle formed by connecting 50% of the vertices that appear on a plane. The best path is the one for which the cost of taking it is the lowest.   \n",
    "\n",
    "The aim of the problem is to #TODO"
   ]
  },
  {
   "cell_type": "code",
   "execution_count": 1,
   "metadata": {},
   "outputs": [],
   "source": [
    "from scripts import *\n",
    "\n",
    "np.random.seed(123)\n",
    "\n",
    "a = \"../data/TSPA.csv\"\n",
    "b = \"../data/TSPB.csv\"\n",
    "c = \"../data/TSPC.csv\"\n",
    "d = \"../data/TSPD.csv\""
   ]
  }
 ],
 "metadata": {
  "kernelspec": {
   "display_name": "venv",
   "language": "python",
   "name": "python3"
  },
  "language_info": {
   "codemirror_mode": {
    "name": "ipython",
    "version": 3
   },
   "file_extension": ".py",
   "mimetype": "text/x-python",
   "name": "python",
   "nbconvert_exporter": "python",
   "pygments_lexer": "ipython3",
   "version": "3.10.12"
  }
 },
 "nbformat": 4,
 "nbformat_minor": 2
}
